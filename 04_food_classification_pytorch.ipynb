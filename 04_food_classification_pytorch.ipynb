{
  "nbformat": 4,
  "nbformat_minor": 0,
  "metadata": {
    "colab": {
      "provenance": [],
      "authorship_tag": "ABX9TyO3W7aXpahO0a7X+vC1vk7Y",
      "include_colab_link": true
    },
    "kernelspec": {
      "name": "python3",
      "display_name": "Python 3"
    },
    "language_info": {
      "name": "python"
    }
  },
  "cells": [
    {
      "cell_type": "markdown",
      "metadata": {
        "id": "view-in-github",
        "colab_type": "text"
      },
      "source": [
        "<a href=\"https://colab.research.google.com/github/Alton01/food_classification_with_pytorch/blob/main/04_food_classification_pytorch.ipynb\" target=\"_parent\"><img src=\"https://colab.research.google.com/assets/colab-badge.svg\" alt=\"Open In Colab\"/></a>"
      ]
    },
    {
      "cell_type": "code",
      "execution_count": 1,
      "metadata": {
        "id": "TRc3wqgHqo22"
      },
      "outputs": [],
      "source": [
        "import torch\n",
        "from torch import nn"
      ]
    },
    {
      "cell_type": "code",
      "source": [
        "device = 'cuda' if torch.cuda.is_available() else 'cpu'"
      ],
      "metadata": {
        "id": "GAkU9800vO-L"
      },
      "execution_count": 2,
      "outputs": []
    },
    {
      "cell_type": "code",
      "source": [
        "device"
      ],
      "metadata": {
        "colab": {
          "base_uri": "https://localhost:8080/",
          "height": 36
        },
        "id": "zVuEN9-avcPK",
        "outputId": "3fa2075e-11b6-4ab3-ba0a-c4e1707fce2a"
      },
      "execution_count": 3,
      "outputs": [
        {
          "output_type": "execute_result",
          "data": {
            "text/plain": [
              "'cpu'"
            ],
            "application/vnd.google.colaboratory.intrinsic+json": {
              "type": "string"
            }
          },
          "metadata": {},
          "execution_count": 3
        }
      ]
    },
    {
      "cell_type": "code",
      "source": [
        "import requests\n",
        "import zipfile\n",
        "from pathlib import Path\n",
        "\n",
        "# Setup path to data folder\n",
        "\n",
        "data_path = Path(\"data/\")\n",
        "image_path = data_path / \"pizza_steak_sushi\"\n",
        "\n",
        "# if the image folder doesn't exist, download it and prepare it\n",
        "\n",
        "if image_path.is_dir():\n",
        "  print(f\"{image_path} directory already exists....... skipping download\")\n",
        "else:\n",
        "  print(f\"{image_path} doesn't exists....... creating one\")\n",
        "  image_path.mkdir(parents=True, exist_ok=True)\n",
        "\n",
        "\n",
        "  # Download Pizza, Steak and Sushi data\n",
        "with open(data_path / \"pizza_steak_sushi.zip\", \"wb\") as f:\n",
        "  request = requests.get(\"https://github.com/mrdbourke/pytorch-deep-learning/raw/main/data/pizza_steak_sushi.zip\")\n",
        "  print(\"Downloading Pizza, Steak and Sushi data\")\n",
        "  f.write(request.content)\n",
        "\n",
        "  # unzip pizza, steak, sushi data. Extract images and  send to image path\n",
        "with zipfile.ZipFile(data_path / \"pizza_steak_sushi.zip\", \"r\") as zip_ref:\n",
        "  print(\"Unzipping Pizza, Steak and Sushi data\")\n",
        "  zip_ref.extractall(image_path)"
      ],
      "metadata": {
        "colab": {
          "base_uri": "https://localhost:8080/"
        },
        "id": "wWwfMdNOvvMn",
        "outputId": "dee2f267-4437-4b88-db94-90b83fc118ea"
      },
      "execution_count": 4,
      "outputs": [
        {
          "output_type": "stream",
          "name": "stdout",
          "text": [
            "data/pizza_steak_sushi doesn't exists....... creating one\n",
            "Downloading Pizza, Steak and Sushi data\n",
            "Unzipping Pizza, Steak and Sushi data\n"
          ]
        }
      ]
    },
    {
      "cell_type": "code",
      "source": [
        "data_path / \"pizza_steak_sushi.zip\""
      ],
      "metadata": {
        "colab": {
          "base_uri": "https://localhost:8080/"
        },
        "id": "pfZkL-LvEBL2",
        "outputId": "790467b0-fd97-4d38-9796-988f0f1a563a"
      },
      "execution_count": 5,
      "outputs": [
        {
          "output_type": "execute_result",
          "data": {
            "text/plain": [
              "PosixPath('data/pizza_steak_sushi.zip')"
            ]
          },
          "metadata": {},
          "execution_count": 5
        }
      ]
    },
    {
      "cell_type": "code",
      "source": [
        "import os\n",
        "def walk_through_dir(dir_path):\n",
        "  for dirpath, dirnames, filenames in os.walk(dir_path):\n",
        "    print(f\"There are {len(dirnames)} directories and {len(filenames)} images in '{dirpath}'.\")"
      ],
      "metadata": {
        "id": "mHMHDHS7OHGl"
      },
      "execution_count": 6,
      "outputs": []
    },
    {
      "cell_type": "code",
      "source": [
        "walk_through_dir(image_path)"
      ],
      "metadata": {
        "colab": {
          "base_uri": "https://localhost:8080/"
        },
        "id": "TaRdYyE0QgiM",
        "outputId": "aa22fecb-4f4c-4b99-b53a-f26bb9cd7d02"
      },
      "execution_count": 7,
      "outputs": [
        {
          "output_type": "stream",
          "name": "stdout",
          "text": [
            "There are 2 directories and 0 images in 'data/pizza_steak_sushi'.\n",
            "There are 3 directories and 0 images in 'data/pizza_steak_sushi/test'.\n",
            "There are 0 directories and 25 images in 'data/pizza_steak_sushi/test/pizza'.\n",
            "There are 0 directories and 31 images in 'data/pizza_steak_sushi/test/sushi'.\n",
            "There are 0 directories and 19 images in 'data/pizza_steak_sushi/test/steak'.\n",
            "There are 3 directories and 0 images in 'data/pizza_steak_sushi/train'.\n",
            "There are 0 directories and 78 images in 'data/pizza_steak_sushi/train/pizza'.\n",
            "There are 0 directories and 72 images in 'data/pizza_steak_sushi/train/sushi'.\n",
            "There are 0 directories and 75 images in 'data/pizza_steak_sushi/train/steak'.\n"
          ]
        }
      ]
    },
    {
      "cell_type": "code",
      "source": [
        "# setup test and train paths\n",
        "train_dir = image_path / \"train\"\n",
        "test_dir = image_path / \"test\"\n",
        "\n",
        "train_dir, test_dir"
      ],
      "metadata": {
        "colab": {
          "base_uri": "https://localhost:8080/"
        },
        "id": "lPcZ_XddRo-0",
        "outputId": "177bd647-61b7-4096-b6f8-2f3f42ad1f5b"
      },
      "execution_count": 8,
      "outputs": [
        {
          "output_type": "execute_result",
          "data": {
            "text/plain": [
              "(PosixPath('data/pizza_steak_sushi/train'),\n",
              " PosixPath('data/pizza_steak_sushi/test'))"
            ]
          },
          "metadata": {},
          "execution_count": 8
        }
      ]
    },
    {
      "cell_type": "code",
      "source": [
        "# visualizing a random image through code. PIL - Python Imaging Library\n",
        "\n",
        "import random\n",
        "from PIL import Image\n",
        "\n",
        "random.seed(42)\n",
        "\n",
        "image_path_list = list(image_path.glob(\"*/*/*.jpg\")) # directs to a path for the images\n",
        "\n",
        "# pick random image path\n",
        "\n",
        "random_image_path = random.choice(image_path_list)\n",
        "\n",
        "\n",
        "image_class = random_image_path.parent.stem\n",
        "\n",
        "#open image\n",
        "\n",
        "img = Image.open(random_image_path)\n",
        "\n",
        "print(f\"Randomimage path: {random_image_path}\")\n",
        "print(f\"Image class: {image_class}\")\n",
        "print(f\"Image height: {img.height}\")\n",
        "print(f\"Image width: {img.width}\")\n",
        "img"
      ],
      "metadata": {
        "id": "DBRx0DxPY8eC"
      },
      "execution_count": null,
      "outputs": []
    },
    {
      "cell_type": "code",
      "source": [
        "# visualize an image with matplotlib\n",
        "\n",
        "import numpy as np\n",
        "import matplotlib.pyplot as plt\n",
        "\n",
        "#turn the image into an array\n",
        "img_as_array = np.asarray(img)\n",
        "\n",
        "plt.figure(figsize=(10, 7))\n",
        "plt.imshow(img_as_array)\n",
        "plt.title(f\"Image class: {image_class} | Image shape: {img_as_array.shape}\")\n",
        "plt.axis(False)"
      ],
      "metadata": {
        "id": "27Vg-BTIlBj0"
      },
      "execution_count": null,
      "outputs": []
    },
    {
      "cell_type": "code",
      "source": [
        "img_as_array"
      ],
      "metadata": {
        "id": "Jx-pXo30mXXZ"
      },
      "execution_count": null,
      "outputs": []
    },
    {
      "cell_type": "code",
      "source": [
        "# transforming images/data into pytorch tensors\n",
        "\n",
        "import torch\n",
        "from torch.utils.data import DataLoader\n",
        "\n",
        "from torchvision import datasets, transforms\n"
      ],
      "metadata": {
        "id": "hX9yXbRvmvlI"
      },
      "execution_count": 12,
      "outputs": []
    },
    {
      "cell_type": "code",
      "source": [
        "# transforms are used to help get images ready to be used with a model/perform data augmentation\n",
        "\n",
        "data_transform = transforms.Compose([\n",
        "    transforms.Resize(size=(64, 64)), # changes image shape and pixel size\n",
        "    transforms.RandomHorizontalFlip(p=0.5), #probability\n",
        "    transforms.ToTensor()\n",
        "])"
      ],
      "metadata": {
        "id": "KqYuCXixoUZu"
      },
      "execution_count": 13,
      "outputs": []
    },
    {
      "cell_type": "code",
      "source": [
        "data_transform(img).dtype"
      ],
      "metadata": {
        "colab": {
          "base_uri": "https://localhost:8080/"
        },
        "id": "Vn_fMG6bp8Z3",
        "outputId": "4a9b2098-d9f7-462b-f3be-535915d2ed36"
      },
      "execution_count": 14,
      "outputs": [
        {
          "output_type": "execute_result",
          "data": {
            "text/plain": [
              "torch.float32"
            ]
          },
          "metadata": {},
          "execution_count": 14
        }
      ]
    },
    {
      "cell_type": "code",
      "source": [
        "# comparing original images to transformed images.\n",
        "def plot_transformed_images(image_paths: list, transform, n=3, seed=None):\n",
        "  if seed:\n",
        "    random.seed(seed)\n",
        "  random_image_paths = random.sample(image_paths, k=n)\n",
        "  for image_path in random_image_paths:\n",
        "    with Image.open(image_path) as f:\n",
        "      fig, ax = plt.subplots(nrows=1, ncols=2)\n",
        "      ax[0].imshow(f)\n",
        "      ax[0].set_title(f\"Original \\nSize: {f.size}\")\n",
        "      ax[0].axis(\"off\")\n",
        "\n",
        "      # transform and plot image\n",
        "      transformed_image = transform(f).permute(1, 2, 0)\n",
        "      ax[1].imshow(transformed_image)\n",
        "      ax[1].set_title(f\"Transformed \\nSize: {transformed_image.shape}\")\n",
        "      ax[1].axis(\"off\")\n",
        "\n",
        "      fig.suptitle(f\"Class: {image_path.parent.stem}\", fontsize=16)\n",
        "\n",
        "plot_transformed_images(image_paths=image_path_list,\n",
        "                        transform=data_transform,\n",
        "                        n=3,\n",
        "                        seed=42)"
      ],
      "metadata": {
        "id": "3SrT8_pVqdDG"
      },
      "execution_count": null,
      "outputs": []
    },
    {
      "cell_type": "code",
      "source": [
        "from torchvision import datasets\n",
        "\n",
        "train_data = datasets.ImageFolder(root=train_dir,\n",
        "                                  transform=data_transform, # transform for data\n",
        "                                  target_transform=None) # transform for the target / label\n",
        "\n",
        "test_data = datasets.ImageFolder(root=test_dir,\n",
        "                                 transform=data_transform)\n",
        "\n",
        "print(f\"Train data:\\n{train_data}\\nTest data:\\n{test_data}\")"
      ],
      "metadata": {
        "id": "Luq4xEv6vdp9",
        "colab": {
          "base_uri": "https://localhost:8080/"
        },
        "outputId": "aa906d17-eb71-4695-9427-6e7721b00097"
      },
      "execution_count": 16,
      "outputs": [
        {
          "output_type": "stream",
          "name": "stdout",
          "text": [
            "Train data:\n",
            "Dataset ImageFolder\n",
            "    Number of datapoints: 225\n",
            "    Root location: data/pizza_steak_sushi/train\n",
            "    StandardTransform\n",
            "Transform: Compose(\n",
            "               Resize(size=(64, 64), interpolation=bilinear, max_size=None, antialias=True)\n",
            "               RandomHorizontalFlip(p=0.5)\n",
            "               ToTensor()\n",
            "           )\n",
            "Test data:\n",
            "Dataset ImageFolder\n",
            "    Number of datapoints: 75\n",
            "    Root location: data/pizza_steak_sushi/test\n",
            "    StandardTransform\n",
            "Transform: Compose(\n",
            "               Resize(size=(64, 64), interpolation=bilinear, max_size=None, antialias=True)\n",
            "               RandomHorizontalFlip(p=0.5)\n",
            "               ToTensor()\n",
            "           )\n"
          ]
        }
      ]
    },
    {
      "cell_type": "code",
      "source": [
        "class_names = train_data.classes\n",
        "\n",
        "class_names"
      ],
      "metadata": {
        "colab": {
          "base_uri": "https://localhost:8080/"
        },
        "id": "EXYDg2m76AON",
        "outputId": "59ffa063-38d1-4ef8-d12b-4662d9cb6c92"
      },
      "execution_count": 17,
      "outputs": [
        {
          "output_type": "execute_result",
          "data": {
            "text/plain": [
              "['pizza', 'steak', 'sushi']"
            ]
          },
          "metadata": {},
          "execution_count": 17
        }
      ]
    },
    {
      "cell_type": "code",
      "source": [
        "# Get class names as dict\n",
        "\n",
        "class_dict = train_data.class_to_idx\n",
        "\n",
        "class_dict"
      ],
      "metadata": {
        "colab": {
          "base_uri": "https://localhost:8080/"
        },
        "id": "CGKkWjyl7MXV",
        "outputId": "ef935c1d-3655-42b9-e0e2-88601314d9b0"
      },
      "execution_count": 18,
      "outputs": [
        {
          "output_type": "execute_result",
          "data": {
            "text/plain": [
              "{'pizza': 0, 'steak': 1, 'sushi': 2}"
            ]
          },
          "metadata": {},
          "execution_count": 18
        }
      ]
    },
    {
      "cell_type": "code",
      "source": [
        "len(train_data), len(test_data)"
      ],
      "metadata": {
        "colab": {
          "base_uri": "https://localhost:8080/"
        },
        "id": "lcf4iosb7-T1",
        "outputId": "3a92c572-7a24-4557-9e94-13ece25a477f"
      },
      "execution_count": 19,
      "outputs": [
        {
          "output_type": "execute_result",
          "data": {
            "text/plain": [
              "(225, 75)"
            ]
          },
          "metadata": {},
          "execution_count": 19
        }
      ]
    },
    {
      "cell_type": "code",
      "source": [
        "img, label = train_data[0][0], train_data[0][1]\n",
        "\n",
        "print(f\"Image tensor:\\n{img}\")\n",
        "print(f\"Image shape: {img.shape}\")\n",
        "print(f\"Image datatype: {img.dtype}\")\n",
        "print(f\"Image label: {label}\")\n",
        "print(f\"Label datatype: {type(label)}\")"
      ],
      "metadata": {
        "colab": {
          "base_uri": "https://localhost:8080/"
        },
        "id": "vYlX9uQ49Ub4",
        "outputId": "b53bdd9c-2574-4787-dee5-f5f478c072a9"
      },
      "execution_count": 20,
      "outputs": [
        {
          "output_type": "stream",
          "name": "stdout",
          "text": [
            "Image tensor:\n",
            "tensor([[[0.1137, 0.1020, 0.0980,  ..., 0.1255, 0.1216, 0.1176],\n",
            "         [0.1059, 0.0980, 0.0980,  ..., 0.1294, 0.1294, 0.1294],\n",
            "         [0.1020, 0.0980, 0.0941,  ..., 0.1333, 0.1333, 0.1333],\n",
            "         ...,\n",
            "         [0.1098, 0.1098, 0.1255,  ..., 0.1686, 0.1647, 0.1686],\n",
            "         [0.0902, 0.0941, 0.1098,  ..., 0.1686, 0.1647, 0.1686],\n",
            "         [0.0863, 0.0863, 0.0980,  ..., 0.1686, 0.1647, 0.1647]],\n",
            "\n",
            "        [[0.0745, 0.0706, 0.0745,  ..., 0.0588, 0.0588, 0.0588],\n",
            "         [0.0745, 0.0706, 0.0745,  ..., 0.0627, 0.0627, 0.0627],\n",
            "         [0.0706, 0.0745, 0.0745,  ..., 0.0706, 0.0706, 0.0706],\n",
            "         ...,\n",
            "         [0.1255, 0.1333, 0.1373,  ..., 0.2510, 0.2392, 0.2392],\n",
            "         [0.1098, 0.1176, 0.1255,  ..., 0.2510, 0.2392, 0.2314],\n",
            "         [0.1020, 0.1059, 0.1137,  ..., 0.2431, 0.2353, 0.2275]],\n",
            "\n",
            "        [[0.0941, 0.0902, 0.0902,  ..., 0.0157, 0.0196, 0.0196],\n",
            "         [0.0902, 0.0863, 0.0902,  ..., 0.0196, 0.0157, 0.0196],\n",
            "         [0.0902, 0.0902, 0.0902,  ..., 0.0157, 0.0157, 0.0196],\n",
            "         ...,\n",
            "         [0.1294, 0.1333, 0.1490,  ..., 0.1961, 0.1882, 0.1843],\n",
            "         [0.1098, 0.1137, 0.1255,  ..., 0.1922, 0.1843, 0.1804],\n",
            "         [0.1059, 0.0980, 0.1059,  ..., 0.1882, 0.1804, 0.1765]]])\n",
            "Image shape: torch.Size([3, 64, 64])\n",
            "Image datatype: torch.float32\n",
            "Image label: 0\n",
            "Label datatype: <class 'int'>\n"
          ]
        }
      ]
    },
    {
      "cell_type": "code",
      "source": [
        "img_permute = img.permute(1, 2, 0)\n",
        "\n",
        "print(f\"Original shape: {img.shape}\") # (C, H, W)\n",
        "print(f\"Image permuted shape: {img_permute.shape}\") # (H, W, C)\n",
        "\n",
        "plt.figure(figsize=(10, 7))\n",
        "plt.imshow(img_permute)\n",
        "plt.axis(\"off\")\n",
        "plt.title(class_names[label], fontsize=14)"
      ],
      "metadata": {
        "id": "fD5Gvlfb-4IY"
      },
      "execution_count": null,
      "outputs": []
    },
    {
      "cell_type": "code",
      "source": [
        "# turn test and train data into DataLoader's batches\n",
        "\n",
        "from torch.utils.data import DataLoader\n",
        "BATCH_SIZE=1\n",
        "train_dataloader = DataLoader(dataset=train_data,\n",
        "                              batch_size=BATCH_SIZE,\n",
        "                              num_workers=1, # how many cpu cores used to load our data\n",
        "                              shuffle=True)\n",
        "\n",
        "test_dataloader = DataLoader(dataset=test_data,\n",
        "                             batch_size=BATCH_SIZE,\n",
        "                             num_workers=1,\n",
        "                             shuffle=False)\n",
        "\n",
        "train_dataloader, test_dataloader"
      ],
      "metadata": {
        "colab": {
          "base_uri": "https://localhost:8080/"
        },
        "id": "MWy7nNEsAG_m",
        "outputId": "98dfc6fa-51ce-4aa1-9c95-0a4c0950be64"
      },
      "execution_count": 22,
      "outputs": [
        {
          "output_type": "execute_result",
          "data": {
            "text/plain": [
              "(<torch.utils.data.dataloader.DataLoader at 0x7d771cc5b250>,\n",
              " <torch.utils.data.dataloader.DataLoader at 0x7d771cc2fb50>)"
            ]
          },
          "metadata": {},
          "execution_count": 22
        }
      ]
    },
    {
      "cell_type": "code",
      "source": [
        "img, label = next(iter(train_dataloader))\n",
        "\n",
        "print(f\"Image shape: {img.shape}\")\n",
        "print(f\"Label shape: {label.shape}\")"
      ],
      "metadata": {
        "colab": {
          "base_uri": "https://localhost:8080/"
        },
        "id": "fw0wE7mXB8uD",
        "outputId": "a9c0527e-536b-4b2b-8354-9a3a5fb36a8b"
      },
      "execution_count": 23,
      "outputs": [
        {
          "output_type": "stream",
          "name": "stdout",
          "text": [
            "Image shape: torch.Size([1, 3, 64, 64])\n",
            "Label shape: torch.Size([1])\n"
          ]
        }
      ]
    },
    {
      "cell_type": "code",
      "source": [
        "# Loading image data with a custom dataset\n",
        "\n",
        "import os\n",
        "import pathlib\n",
        "import torch\n",
        "\n",
        "from PIL import Image\n",
        "from torch.utils.data import Dataset\n",
        "from torchvision import transforms\n",
        "from typing import Tuple, Dict, List"
      ],
      "metadata": {
        "id": "BonnfOhiDB8X"
      },
      "execution_count": 24,
      "outputs": []
    },
    {
      "cell_type": "code",
      "source": [
        "train_data.classes, train_data.class_to_idx"
      ],
      "metadata": {
        "colab": {
          "base_uri": "https://localhost:8080/"
        },
        "id": "T7ovFppiNKK7",
        "outputId": "7eacfa87-c1b2-4616-f118-562958fa973f"
      },
      "execution_count": 25,
      "outputs": [
        {
          "output_type": "execute_result",
          "data": {
            "text/plain": [
              "(['pizza', 'steak', 'sushi'], {'pizza': 0, 'steak': 1, 'sushi': 2})"
            ]
          },
          "metadata": {},
          "execution_count": 25
        }
      ]
    },
    {
      "cell_type": "code",
      "source": [
        "# creating a helper function to get class names from a directory.\n",
        "\n",
        "#set up path for target directory\n",
        "\n",
        "target_directory = train_dir\n",
        "print(f\"Target dir: {target_directory}\")\n",
        "\n",
        "# get class names from the target directory\n",
        "class_names_found = sorted([entry.name for entry in list(os.scandir(target_directory))])\n",
        "class_names_found"
      ],
      "metadata": {
        "colab": {
          "base_uri": "https://localhost:8080/"
        },
        "id": "5bYX6qYhQDxQ",
        "outputId": "c23d7595-56ab-4aa7-b320-b69c563bcef0"
      },
      "execution_count": 26,
      "outputs": [
        {
          "output_type": "stream",
          "name": "stdout",
          "text": [
            "Target dir: data/pizza_steak_sushi/train\n"
          ]
        },
        {
          "output_type": "execute_result",
          "data": {
            "text/plain": [
              "['pizza', 'steak', 'sushi']"
            ]
          },
          "metadata": {},
          "execution_count": 26
        }
      ]
    },
    {
      "cell_type": "code",
      "source": [
        "def find_classes(directory: str) -> Tuple[List[str], Dict[str, int]]:\n",
        "  # finds the class folder name in a target directory\n",
        "  classes = sorted(entry.name for entry in os.scandir(directory) if entry.is_dir())\n",
        "\n",
        "  # Raise error if class names could not be found\n",
        "\n",
        "  if not classes:\n",
        "    raise FileNotFoundError(f\"Couldn't find any classes in directory: {directory}.... Please check file structure\")\n",
        "\n",
        "  # create a dictionary of index labels ( computers prefer numbers rather than strings as labels)\n",
        "  class_to_idx = {class_name: i for i, class_name in enumerate(classes)}\n",
        "\n",
        "  return classes, class_to_idx"
      ],
      "metadata": {
        "id": "z-E8HrCoTU6Y"
      },
      "execution_count": 27,
      "outputs": []
    },
    {
      "cell_type": "code",
      "source": [
        "find_classes(target_directory)"
      ],
      "metadata": {
        "colab": {
          "base_uri": "https://localhost:8080/"
        },
        "id": "chlx31UBUPXe",
        "outputId": "b7324ddf-00f9-4386-c84f-19444e6497f2"
      },
      "execution_count": 28,
      "outputs": [
        {
          "output_type": "execute_result",
          "data": {
            "text/plain": [
              "(['pizza', 'steak', 'sushi'], {'pizza': 0, 'steak': 1, 'sushi': 2})"
            ]
          },
          "metadata": {},
          "execution_count": 28
        }
      ]
    },
    {
      "cell_type": "code",
      "source": [
        "# create a custom dataset to replicate image folder\n",
        "\n",
        "# write a custom dataset class\n",
        "\n",
        "from torch.utils.data import Dataset\n",
        "\n",
        "class ImageFolderCustom(Dataset):\n",
        "  def __init__(self,\n",
        "               targ_dir: str,\n",
        "               transform=None):\n",
        "\n",
        "    # create class attributes\n",
        "    self.paths = list(pathlib.Path(targ_dir).glob(\"*/*.jpg\"))\n",
        "    self.transform = transform\n",
        "    self.classes, self.class_to_idx = find_classes(targ_dir)\n",
        "\n",
        "\n",
        "  # create a  function to load images\n",
        "  def load_image(self, index: int) -> Image.Image:\n",
        "    # opens an image via a path and returns it.\n",
        "    image_path = self.paths[index]\n",
        "\n",
        "    return Image.open(image_path)\n",
        "\n",
        "\n",
        "  #overwrite __len__\n",
        "  def __len__(self) -> int:\n",
        "    # returns total number of samples\n",
        "    return len(self.paths)\n",
        "\n",
        "\n",
        "  # overwrite __getitem()__ method to return a particular sample\n",
        "  def __getitem__(self, index: int) -> Tuple[torch.Tensor, int]:\n",
        "    # loads and returns a sample\n",
        "    img = self.load_image(index)\n",
        "    class_name = self.paths[index].parent.name #expects path in format: data_folder/class_name/image.jpg\n",
        "    class_idx = self.class_to_idx[class_name]\n",
        "\n",
        "    # transformation if necessary (data augmentation)\n",
        "    if self.transform:\n",
        "      return self.transform(img), class_idx # return data, label (X, y)\n",
        "    else:\n",
        "      return img, class_idx # return untransformed image and label"
      ],
      "metadata": {
        "id": "6A6p8jboV8DA"
      },
      "execution_count": 29,
      "outputs": []
    },
    {
      "cell_type": "code",
      "source": [
        "# create a transform\n",
        "from torchvision import transforms\n",
        "\n",
        "train_transforms = transforms.Compose({\n",
        "    transforms.Resize(size=(64, 64)),\n",
        "    transforms.RandomHorizontalFlip(p=0.5),\n",
        "    transforms.ToTensor()\n",
        "})\n",
        "\n",
        "test_transforms = transforms.Compose({\n",
        "    transforms.Resize(size=(64, 64)),\n",
        "    transforms.ToTensor()\n",
        "})"
      ],
      "metadata": {
        "id": "EFWSHvYWeqM0"
      },
      "execution_count": 30,
      "outputs": []
    },
    {
      "cell_type": "code",
      "source": [
        "# test out ImageFolderCustom\n",
        "\n",
        "train_data_custom = ImageFolderCustom(targ_dir=train_dir,\n",
        "                                        transform=train_transforms)\n",
        "\n",
        "test_data_custom = ImageFolderCustom(targ_dir=test_dir,\n",
        "                                      transform=test_transforms)"
      ],
      "metadata": {
        "id": "V7SHGxSDfcgJ"
      },
      "execution_count": 31,
      "outputs": []
    },
    {
      "cell_type": "code",
      "source": [
        "train_data_custom, test_data_custom"
      ],
      "metadata": {
        "colab": {
          "base_uri": "https://localhost:8080/"
        },
        "id": "dM7lM3dngg0X",
        "outputId": "3ec37cd4-0f16-4109-fcc7-6d553d7105dd"
      },
      "execution_count": 32,
      "outputs": [
        {
          "output_type": "execute_result",
          "data": {
            "text/plain": [
              "(<__main__.ImageFolderCustom at 0x7d771cc76d50>,\n",
              " <__main__.ImageFolderCustom at 0x7d771cc90510>)"
            ]
          },
          "metadata": {},
          "execution_count": 32
        }
      ]
    },
    {
      "cell_type": "code",
      "source": [
        "len(train_data), len(train_data_custom)"
      ],
      "metadata": {
        "colab": {
          "base_uri": "https://localhost:8080/"
        },
        "id": "GKnTMWcVgt2C",
        "outputId": "059994ec-ace3-4541-fd30-65cddefdfe1a"
      },
      "execution_count": 33,
      "outputs": [
        {
          "output_type": "execute_result",
          "data": {
            "text/plain": [
              "(225, 225)"
            ]
          },
          "metadata": {},
          "execution_count": 33
        }
      ]
    },
    {
      "cell_type": "code",
      "source": [],
      "metadata": {
        "id": "vLITzzpXhTZ6"
      },
      "execution_count": 33,
      "outputs": []
    },
    {
      "cell_type": "code",
      "source": [
        "len(test_data), len(test_data_custom)"
      ],
      "metadata": {
        "colab": {
          "base_uri": "https://localhost:8080/"
        },
        "id": "hg9zaUNmg49f",
        "outputId": "0eb3eabf-e4f2-4f54-e823-5b90886849a1"
      },
      "execution_count": 34,
      "outputs": [
        {
          "output_type": "execute_result",
          "data": {
            "text/plain": [
              "(75, 75)"
            ]
          },
          "metadata": {},
          "execution_count": 34
        }
      ]
    },
    {
      "cell_type": "code",
      "source": [
        "# write a helper function to display random images from our custom datasets\n",
        "\n",
        "# create a function to take in a dataset\n",
        "\n",
        "def display_random_images(dataset: torch.utils.data.Dataset,\n",
        "                          classes: List[str] = None,\n",
        "                          n: int = 10,\n",
        "                          display_shape: bool = True,\n",
        "                          seed: int = None):\n",
        "\n",
        "  # adjust display if n is too high\n",
        "  if n > 10:\n",
        "    n = 10\n",
        "    display_shape = False\n",
        "    print(f\" For display purposes, n shouldn't be larger than 10\")\n",
        "\n",
        "  # set seed\n",
        "  if seed:\n",
        "    random.seed(seed)\n",
        "\n",
        "  # get random sample indexes\n",
        "  random_samples_idx = random.sample(range(len(dataset)), k=n)\n",
        "\n",
        "  # setup plot\n",
        "  plt.figure(figsize=(16,8))\n",
        "\n",
        "  # loop through the random indexes and plot them with matplotlib\n",
        "  for i, targ_sample in enumerate(random_samples_idx):\n",
        "    targ_image, targ_label = dataset[targ_sample][0], dataset[targ_sample][1]\n",
        "\n",
        "\n",
        "    # adjust tensor dimensions for plotting\n",
        "    targ_image_adjust = targ_image.permute(1, 2, 0)\n",
        "\n",
        "    # plot adjusted samples\n",
        "    plt.subplot(1, n, i+1)\n",
        "    plt.imshow(targ_image_adjust)\n",
        "    plt.axis(\"off\")\n",
        "    if classes:\n",
        "      title = f\"class: {classes[targ_label]}\"\n",
        "\n",
        "      if display_shape:\n",
        "        title = title + f\"\\nshape: {targ_image_adjust.shape}\"\n",
        "\n",
        "      plt.title(title)"
      ],
      "metadata": {
        "id": "1QtmFnnciV5I"
      },
      "execution_count": 35,
      "outputs": []
    },
    {
      "cell_type": "code",
      "source": [
        "# display random images from the imagefolder created datasets\n",
        "\n",
        "display_random_images(train_data,\n",
        "                      n=5,\n",
        "                      classes=class_names,\n",
        "                      seed=None)"
      ],
      "metadata": {
        "id": "SJuw0-XcrpdM"
      },
      "execution_count": null,
      "outputs": []
    },
    {
      "cell_type": "code",
      "source": [
        "# display random images from the ImageFolderCustom Dataset\n",
        "\n",
        "display_random_images(train_data_custom,\n",
        "                      n=5,\n",
        "                      classes=class_names,\n",
        "                      seed=None)"
      ],
      "metadata": {
        "id": "Pg6X-YQTsT45"
      },
      "execution_count": null,
      "outputs": []
    },
    {
      "cell_type": "code",
      "source": [
        "# turn custom loaded images/datasets into  dataloader's\n",
        "\n",
        "from torch.utils.data import DataLoader\n",
        "BATCH_SIZE = 32\n",
        "NUM_WORKERS = os.cpu_count()\n",
        "train_dataloader_custom = DataLoader(dataset=train_data_custom,\n",
        "                                     batch_size=BATCH_SIZE,\n",
        "                                     num_workers=NUM_WORKERS,\n",
        "                                     shuffle=True)\n",
        "\n",
        "test_dataloader_custom =  DataLoader(dataset=test_data_custom,\n",
        "                                     batch_size=BATCH_SIZE,\n",
        "                                     num_workers=NUM_WORKERS,\n",
        "                                     shuffle=False)\n",
        "\n",
        "train_dataloader_custom, test_dataloader_custom\n",
        "\n"
      ],
      "metadata": {
        "colab": {
          "base_uri": "https://localhost:8080/"
        },
        "id": "-bUBGueXuNPZ",
        "outputId": "fb0c3903-5390-434f-fe37-b3a40bc13b58"
      },
      "execution_count": 38,
      "outputs": [
        {
          "output_type": "execute_result",
          "data": {
            "text/plain": [
              "(<torch.utils.data.dataloader.DataLoader at 0x7d771c8cf550>,\n",
              " <torch.utils.data.dataloader.DataLoader at 0x7d771ca748d0>)"
            ]
          },
          "metadata": {},
          "execution_count": 38
        }
      ]
    },
    {
      "cell_type": "code",
      "source": [
        "# Get image and label from custom data loader\n",
        "\n",
        "img_custom, label_custom = next(iter(train_dataloader_custom))\n",
        "\n",
        "print(f\"Image shape: {img_custom.shape}\")\n",
        "print(f\"Label shape: {label_custom.shape}\")"
      ],
      "metadata": {
        "colab": {
          "base_uri": "https://localhost:8080/"
        },
        "id": "UWhSKkllwXuR",
        "outputId": "3673b418-9191-4402-f034-8d1ff2412fbb"
      },
      "execution_count": 39,
      "outputs": [
        {
          "output_type": "stream",
          "name": "stdout",
          "text": [
            "Image shape: torch.Size([32, 3, 64, 64])\n",
            "Label shape: torch.Size([32])\n"
          ]
        }
      ]
    },
    {
      "cell_type": "code",
      "source": [
        "# Data augmentation is the process of artificially adding diversity to your training data.\n",
        "# in the case of image data, this may mean applying various image transformations to the training images.\n",
        "# image data augmentation is looking at the same image from different perspectives. To artificially increase the diversity of a dataset.\n",
        "\n",
        "from torchvision import transforms\n",
        "\n",
        "train_transform = transforms.Compose([\n",
        "    transforms.Resize(size=(224, 224)),\n",
        "    transforms.TrivialAugmentWide(num_magnitude_bins=31),\n",
        "    transforms.ToTensor(),\n",
        "])\n",
        "\n",
        "test_transform = transforms.Compose([\n",
        "    transforms.Resize(size=(224, 224)),\n",
        "    transforms.ToTensor()\n",
        "])"
      ],
      "metadata": {
        "id": "GN3hkLX9xxJm"
      },
      "execution_count": 40,
      "outputs": []
    },
    {
      "cell_type": "code",
      "source": [
        "# Get all image paths\n",
        "\n",
        "image_path_list = list(image_path.glob(\"*/*/*.jpg\"))\n",
        "\n",
        "image_path_list[:10]"
      ],
      "metadata": {
        "colab": {
          "base_uri": "https://localhost:8080/"
        },
        "id": "EWoX0vtQ5vPj",
        "outputId": "24ab4ab7-81d8-49ea-8a15-dd306a95f7f8"
      },
      "execution_count": 41,
      "outputs": [
        {
          "output_type": "execute_result",
          "data": {
            "text/plain": [
              "[PosixPath('data/pizza_steak_sushi/test/pizza/3092704.jpg'),\n",
              " PosixPath('data/pizza_steak_sushi/test/pizza/416067.jpg'),\n",
              " PosixPath('data/pizza_steak_sushi/test/pizza/195160.jpg'),\n",
              " PosixPath('data/pizza_steak_sushi/test/pizza/540882.jpg'),\n",
              " PosixPath('data/pizza_steak_sushi/test/pizza/1925494.jpg'),\n",
              " PosixPath('data/pizza_steak_sushi/test/pizza/194643.jpg'),\n",
              " PosixPath('data/pizza_steak_sushi/test/pizza/971934.jpg'),\n",
              " PosixPath('data/pizza_steak_sushi/test/pizza/2003290.jpg'),\n",
              " PosixPath('data/pizza_steak_sushi/test/pizza/2124579.jpg'),\n",
              " PosixPath('data/pizza_steak_sushi/test/pizza/714866.jpg')]"
            ]
          },
          "metadata": {},
          "execution_count": 41
        }
      ]
    },
    {
      "cell_type": "code",
      "source": [
        "#Plot random transformed images\n",
        "\n",
        "plot_transformed_images(image_paths=image_path_list,\n",
        "                        transform=train_transform,\n",
        "                        n=3,\n",
        "                        seed=None)"
      ],
      "metadata": {
        "id": "PWwvLC4Z6G9j"
      },
      "execution_count": null,
      "outputs": []
    },
    {
      "cell_type": "code",
      "source": [
        "# Model 0: TinyVGG Architecture without data augmentation\n",
        "\n",
        "# create transforms\n",
        "\n",
        "simple_transform = transforms.Compose([\n",
        "    transforms.Resize(size=(64, 64)),\n",
        "    transforms.ToTensor()\n",
        "])"
      ],
      "metadata": {
        "id": "hhQ__8G97ZNb"
      },
      "execution_count": 43,
      "outputs": []
    },
    {
      "cell_type": "code",
      "source": [
        "# load and transform data\n",
        "\n",
        "from torchvision import datasets\n",
        "train_data_simple = datasets.ImageFolder(root=train_dir,\n",
        "                                         transform=simple_transform,\n",
        "                                        )\n",
        "\n",
        "test_data_simple = datasets.ImageFolder(root=test_dir,\n",
        "                                        transform=simple_transform)\n",
        "\n",
        "# Turn the datasets into DataLoaders\n",
        "\n",
        "import os\n",
        "from torch.utils.data import DataLoader\n",
        "\n",
        "# Setup batch size and number of workers\n",
        "BATCH_SIZE = 32\n",
        "NUM_WORKERS = os.cpu_count()\n",
        "\n",
        "# Create Dataloaders\n",
        "\n",
        "train_dataloader_simple = DataLoader(dataset=train_data_simple,\n",
        "                                     batch_size=BATCH_SIZE,\n",
        "                                     shuffle=True,\n",
        "                                     num_workers=NUM_WORKERS)\n",
        "\n",
        "test_dataloader_simple = DataLoader(dataset=test_data_simple,\n",
        "                                    batch_size=BATCH_SIZE,\n",
        "                                    shuffle=False,\n",
        "                                    num_workers=NUM_WORKERS)"
      ],
      "metadata": {
        "id": "6L0-Feg58sIH"
      },
      "execution_count": 44,
      "outputs": []
    },
    {
      "cell_type": "code",
      "source": [
        "# Create TinyVGG Model Class."
      ],
      "metadata": {
        "id": "HMmJEuSPABjZ"
      },
      "execution_count": 45,
      "outputs": []
    },
    {
      "cell_type": "code",
      "source": [
        "class TinyVGG(nn.Module):\n",
        "  def __init__(self,\n",
        "               input_shape: int,\n",
        "               hidden_units: int,\n",
        "               output_shape: int) -> None:\n",
        "      super().__init__()\n",
        "      self.conv_block_1 = nn.Sequential(\n",
        "          nn.Conv2d(in_channels=input_shape,\n",
        "                    out_channels=hidden_units,\n",
        "                    kernel_size=3,\n",
        "                    stride=1,\n",
        "                    padding=0),\n",
        "          nn.ReLU(),\n",
        "          nn.Conv2d(in_channels=hidden_units,\n",
        "                    out_channels=hidden_units,\n",
        "                    kernel_size=3,\n",
        "                    stride=1,\n",
        "                    padding=0),\n",
        "          nn.ReLU(),\n",
        "          nn.MaxPool2d(kernel_size=2,\n",
        "                       stride=2)\n",
        "      )\n",
        "      self.conv_block_2 = nn.Sequential(\n",
        "          nn.Conv2d(in_channels=hidden_units,\n",
        "                    out_channels=hidden_units,\n",
        "                    kernel_size=3,\n",
        "                    stride=1,\n",
        "                    padding=0),\n",
        "          nn.ReLU(),\n",
        "          nn.Conv2d(in_channels=hidden_units,\n",
        "                    out_channels=hidden_units,\n",
        "                    kernel_size=3,\n",
        "                    stride=1,\n",
        "                    padding=0),\n",
        "          nn.ReLU(),\n",
        "          nn.MaxPool2d(kernel_size=2,\n",
        "                       stride=2)\n",
        "      )\n",
        "      self.classifier = nn.Sequential(\n",
        "          nn.Flatten(),\n",
        "           # we need to ensure hidden values unit on exiting out channels in  nn.Conv2d matches in_features (hidden_unit) hence the 13 * 13\n",
        "          nn.Linear(in_features=hidden_units*13*13,\n",
        "                    out_features=output_shape)\n",
        "      )\n",
        "\n",
        "  def forward(self, x):\n",
        "    # return self.classifier(self.conv_block_2(self.conv_block_1(x))) benefits from operator fusion\n",
        "    #this enables you avoid transportation between memory and compute\n",
        "    x = self.conv_block_1(x)\n",
        "    # print(x.shape)\n",
        "    x = self.conv_block_2(x)\n",
        "    # print(x.shape)\n",
        "    # we need to ensure hidden values unit on exiting out channels in  nn.Conv2d matches in_features (hidden_unit) hence the 13 * 13\n",
        "    x = self.classifier(x)\n",
        "    # print(x.shape)\n",
        "    return x\n"
      ],
      "metadata": {
        "id": "era6CrLpAhCk"
      },
      "execution_count": 46,
      "outputs": []
    },
    {
      "cell_type": "code",
      "source": [
        "# create model instance\n",
        "\n",
        "torch.manual_seed(42)\n",
        "model_0 = TinyVGG(input_shape=3, # number of color channels in our image data\n",
        "                  hidden_units=10,\n",
        "                  output_shape=len(class_names)).to(device)\n",
        "\n",
        "\n",
        "model_0"
      ],
      "metadata": {
        "colab": {
          "base_uri": "https://localhost:8080/"
        },
        "id": "WUD0OoQfHh30",
        "outputId": "8a565c73-77ca-4f11-b178-fd9c95631759"
      },
      "execution_count": 47,
      "outputs": [
        {
          "output_type": "execute_result",
          "data": {
            "text/plain": [
              "TinyVGG(\n",
              "  (conv_block_1): Sequential(\n",
              "    (0): Conv2d(3, 10, kernel_size=(3, 3), stride=(1, 1))\n",
              "    (1): ReLU()\n",
              "    (2): Conv2d(10, 10, kernel_size=(3, 3), stride=(1, 1))\n",
              "    (3): ReLU()\n",
              "    (4): MaxPool2d(kernel_size=2, stride=2, padding=0, dilation=1, ceil_mode=False)\n",
              "  )\n",
              "  (conv_block_2): Sequential(\n",
              "    (0): Conv2d(10, 10, kernel_size=(3, 3), stride=(1, 1))\n",
              "    (1): ReLU()\n",
              "    (2): Conv2d(10, 10, kernel_size=(3, 3), stride=(1, 1))\n",
              "    (3): ReLU()\n",
              "    (4): MaxPool2d(kernel_size=2, stride=2, padding=0, dilation=1, ceil_mode=False)\n",
              "  )\n",
              "  (classifier): Sequential(\n",
              "    (0): Flatten(start_dim=1, end_dim=-1)\n",
              "    (1): Linear(in_features=1690, out_features=3, bias=True)\n",
              "  )\n",
              ")"
            ]
          },
          "metadata": {},
          "execution_count": 47
        }
      ]
    },
    {
      "cell_type": "code",
      "source": [
        "# Pass dummy data through model\n",
        "# Get a single image batch\n",
        "\n",
        "image_batch, label_batch = next(iter(train_dataloader_simple))\n",
        "\n",
        "print(f\"Image batch shape: {image_batch.shape}\")\n",
        "print(f\"Label batch shape: {label_batch.shape}\")"
      ],
      "metadata": {
        "colab": {
          "base_uri": "https://localhost:8080/"
        },
        "id": "R-YwSaQfLkMk",
        "outputId": "bcb90dfb-a19e-44ba-dc0c-d9473e998318"
      },
      "execution_count": 48,
      "outputs": [
        {
          "output_type": "stream",
          "name": "stdout",
          "text": [
            "Image batch shape: torch.Size([32, 3, 64, 64])\n",
            "Label batch shape: torch.Size([32])\n"
          ]
        }
      ]
    },
    {
      "cell_type": "code",
      "source": [
        "# Try a forward pass\n",
        " # we need to ensure hidden values unit on exiting out channels in  nn.Conv2d matches in_features (hidden_unit) hence the * 13 * 13\n",
        "model_0(image_batch)\n",
        "\n",
        "# torch.Size([32, 10, 32, 32])\n",
        "# torch.Size([32, 10, 13, 13])\n",
        "# RuntimeError: mat1 and mat2 shapes cannot be multiplied (32x1690 and 10x3)"
      ],
      "metadata": {
        "colab": {
          "base_uri": "https://localhost:8080/"
        },
        "id": "N0j2yhvAMOrA",
        "outputId": "a836793c-d5ae-47ef-f3eb-fc913b811c35"
      },
      "execution_count": 49,
      "outputs": [
        {
          "output_type": "execute_result",
          "data": {
            "text/plain": [
              "tensor([[ 2.0795e-02, -1.9510e-03,  9.5212e-03],\n",
              "        [ 1.8440e-02,  2.4668e-03,  6.6609e-03],\n",
              "        [ 1.7695e-02,  1.0282e-03,  9.4975e-03],\n",
              "        [ 2.4446e-02, -3.3489e-03,  9.5877e-03],\n",
              "        [ 1.9939e-02,  6.9131e-04,  1.0778e-02],\n",
              "        [ 2.1281e-02,  2.0434e-03,  5.0046e-03],\n",
              "        [ 2.0996e-02,  1.6415e-04,  1.2481e-02],\n",
              "        [ 2.1566e-02, -1.9607e-03,  9.7175e-03],\n",
              "        [ 2.4500e-02, -4.7904e-03,  8.5394e-03],\n",
              "        [ 2.0239e-02, -4.7979e-04,  1.0907e-02],\n",
              "        [ 2.2219e-02, -4.1816e-04,  9.8173e-03],\n",
              "        [ 2.2318e-02, -2.1642e-03,  9.4428e-03],\n",
              "        [ 2.1851e-02, -3.7225e-03,  8.3784e-03],\n",
              "        [ 2.2881e-02, -1.7559e-03,  1.0299e-02],\n",
              "        [ 2.1635e-02, -4.3995e-03,  9.4990e-03],\n",
              "        [ 2.2101e-02, -4.1469e-03,  9.3904e-03],\n",
              "        [ 2.1226e-02, -4.4215e-03,  1.1476e-02],\n",
              "        [ 2.1698e-02, -2.7458e-03,  8.4966e-03],\n",
              "        [ 1.9974e-02, -3.1665e-07,  8.4496e-03],\n",
              "        [ 1.8308e-02,  1.6378e-03,  8.5491e-03],\n",
              "        [ 2.0768e-02,  1.8096e-03,  7.9825e-03],\n",
              "        [ 1.9826e-02, -3.8645e-03,  9.8465e-03],\n",
              "        [ 2.0900e-02,  1.2141e-04,  8.3933e-03],\n",
              "        [ 2.3190e-02, -3.4667e-03,  9.4969e-03],\n",
              "        [ 2.0510e-02, -2.5316e-03,  8.4689e-03],\n",
              "        [ 1.8149e-02,  2.0775e-03,  8.2082e-03],\n",
              "        [ 2.0323e-02, -1.7798e-03,  7.8779e-03],\n",
              "        [ 1.7277e-02, -3.2315e-04,  1.2488e-02],\n",
              "        [ 1.8340e-02, -1.5345e-03,  9.4628e-03],\n",
              "        [ 1.9844e-02, -2.3284e-03,  9.0067e-03],\n",
              "        [ 2.2059e-02, -4.6367e-03,  1.2652e-02],\n",
              "        [ 1.8056e-02,  2.6729e-03,  5.8030e-03]], grad_fn=<AddmmBackward0>)"
            ]
          },
          "metadata": {},
          "execution_count": 49
        }
      ]
    },
    {
      "cell_type": "code",
      "source": [
        "# Using the torchinfo package to get a summary of our model\n",
        "# Torchinfo can be used to get an idea of the shapes going through our model"
      ],
      "metadata": {
        "id": "DRnxf3YxSYke"
      },
      "execution_count": 50,
      "outputs": []
    },
    {
      "cell_type": "code",
      "source": [
        "#Install torchinfo\n",
        "\n",
        "try:\n",
        "  import torchinfo\n",
        "except:\n",
        "  !pip install torchinfo\n",
        "  import torchinfo\n",
        "\n",
        "from torchinfo import summary\n",
        "summary(model_0, input_size=(1, 3, 64, 64))"
      ],
      "metadata": {
        "colab": {
          "base_uri": "https://localhost:8080/"
        },
        "id": "YmyWn1tqTuIV",
        "outputId": "fe9774d7-8b76-4163-c62d-fd3a44d75670"
      },
      "execution_count": 51,
      "outputs": [
        {
          "output_type": "stream",
          "name": "stdout",
          "text": [
            "Collecting torchinfo\n",
            "  Downloading torchinfo-1.8.0-py3-none-any.whl.metadata (21 kB)\n",
            "Downloading torchinfo-1.8.0-py3-none-any.whl (23 kB)\n",
            "Installing collected packages: torchinfo\n",
            "Successfully installed torchinfo-1.8.0\n"
          ]
        },
        {
          "output_type": "execute_result",
          "data": {
            "text/plain": [
              "==========================================================================================\n",
              "Layer (type:depth-idx)                   Output Shape              Param #\n",
              "==========================================================================================\n",
              "TinyVGG                                  [1, 3]                    --\n",
              "├─Sequential: 1-1                        [1, 10, 30, 30]           --\n",
              "│    └─Conv2d: 2-1                       [1, 10, 62, 62]           280\n",
              "│    └─ReLU: 2-2                         [1, 10, 62, 62]           --\n",
              "│    └─Conv2d: 2-3                       [1, 10, 60, 60]           910\n",
              "│    └─ReLU: 2-4                         [1, 10, 60, 60]           --\n",
              "│    └─MaxPool2d: 2-5                    [1, 10, 30, 30]           --\n",
              "├─Sequential: 1-2                        [1, 10, 13, 13]           --\n",
              "│    └─Conv2d: 2-6                       [1, 10, 28, 28]           910\n",
              "│    └─ReLU: 2-7                         [1, 10, 28, 28]           --\n",
              "│    └─Conv2d: 2-8                       [1, 10, 26, 26]           910\n",
              "│    └─ReLU: 2-9                         [1, 10, 26, 26]           --\n",
              "│    └─MaxPool2d: 2-10                   [1, 10, 13, 13]           --\n",
              "├─Sequential: 1-3                        [1, 3]                    --\n",
              "│    └─Flatten: 2-11                     [1, 1690]                 --\n",
              "│    └─Linear: 2-12                      [1, 3]                    5,073\n",
              "==========================================================================================\n",
              "Total params: 8,083\n",
              "Trainable params: 8,083\n",
              "Non-trainable params: 0\n",
              "Total mult-adds (Units.MEGABYTES): 5.69\n",
              "==========================================================================================\n",
              "Input size (MB): 0.05\n",
              "Forward/backward pass size (MB): 0.71\n",
              "Params size (MB): 0.03\n",
              "Estimated Total Size (MB): 0.79\n",
              "=========================================================================================="
            ]
          },
          "metadata": {},
          "execution_count": 51
        }
      ]
    },
    {
      "cell_type": "code",
      "source": [
        "# Train step\n",
        "\n",
        "\n",
        "def train_step(model: torch.nn.Module,\n",
        "               dataloader: torch.utils.data.DataLoader,\n",
        "               loss_fn: torch.nn.Module,\n",
        "               optimizer: torch.optim.Optimizer,\n",
        "               device=device):\n",
        "\n",
        "  model.train()\n",
        "\n",
        "  train_loss, train_acc = 0,0\n",
        "\n",
        "  for batch, (X, y) in enumerate(dataloader):\n",
        "    X, y = X.to(device), y.to(device)\n",
        "\n",
        "    y_pred = model(X)\n",
        "\n",
        "    loss = loss_fn(y_pred, y)\n",
        "    train_loss += loss.item()\n",
        "\n",
        "    optimizer.zero_grad()\n",
        "\n",
        "    loss.backward()\n",
        "\n",
        "    optimizer.step()\n",
        "\n",
        "    y_pred_class = torch.argmax(torch.softmax(y_pred, dim=1), dim=1)\n",
        "    train_acc += (y_pred_class == y).sum().item()/len(y_pred)\n",
        "\n",
        "  # Adjust metrics to get average loss and accuracy per batch\n",
        "  train_loss = train_loss / len(dataloader)\n",
        "  train_acc = train_acc / len(dataloader)\n",
        "\n",
        "  return train_loss, train_acc"
      ],
      "metadata": {
        "id": "5k_SUi1j476R"
      },
      "execution_count": 52,
      "outputs": []
    },
    {
      "cell_type": "code",
      "source": [
        "# Test step\n",
        "\n",
        "def test_step(model: torch.nn.Module,\n",
        "              dataloader: torch.utils.data.DataLoader,\n",
        "              loss_fn: torch.nn.Module,\n",
        "              device=device):\n",
        "\n",
        "  model.eval()\n",
        "\n",
        "  test_loss, test_acc = 0, 0\n",
        "\n",
        "  with torch.inference_mode():\n",
        "    for batch, (X, y) in enumerate(dataloader):\n",
        "      X, y = X.to(device), y.to(device)\n",
        "\n",
        "      test_pred_logits = model(X)\n",
        "\n",
        "      loss = loss_fn(test_pred_logits, y)\n",
        "      test_loss += loss.item()\n",
        "\n",
        "      test_pred_labels = test_pred_logits.argmax(dim=1)\n",
        "      test_acc += ((test_pred_labels == y).sum().item()/len(test_pred_labels))\n",
        "\n",
        "  test_loss = test_loss / len(dataloader)\n",
        "  test_acc = test_acc / len(dataloader)\n",
        "\n",
        "  return test_loss, test_acc"
      ],
      "metadata": {
        "id": "mo-8pxhD-PEA"
      },
      "execution_count": 53,
      "outputs": []
    },
    {
      "cell_type": "code",
      "source": [
        "# Train and Test Function\n",
        "\n",
        "from tqdm.auto import tqdm\n",
        "\n",
        "def train(model: torch.nn.Module,\n",
        "          train_dataloader: torch.utils.data.DataLoader,\n",
        "          test_dataloader: torch.utils.data.DataLoader,\n",
        "          optimizer: torch.optim.Optimizer,\n",
        "          loss_fn: torch.nn.Module = nn.CrossEntropyLoss(),\n",
        "          epochs: int = 5,\n",
        "          device=device):\n",
        "\n",
        "  results = {\"train_loss\": [],\n",
        "             \"train_acc\": [],\n",
        "             \"test_loss\": [],\n",
        "             \"test_acc\": []}\n",
        "\n",
        "  for epoch in tqdm(range(epochs)):\n",
        "    train_loss, train_acc = train_step(model=model,\n",
        "                                       dataloader=train_dataloader,\n",
        "                                       loss_fn=loss_fn,\n",
        "                                       optimizer=optimizer,\n",
        "                                       device=device)\n",
        "    test_loss, test_acc = test_step(model=model,\n",
        "                                    dataloader=test_dataloader,\n",
        "                                    loss_fn=loss_fn,\n",
        "                                    device=device)\n",
        "\n",
        "    print(f\"Epoch: {epoch} | Train loss: {train_loss:.4f} | Train acc: {train_acc:.4f} | Test loss: {test_loss:.4f} | Test acc: {test_acc:.4f}\")\n",
        "\n",
        "    results[\"train_loss\"].append(train_loss)\n",
        "    results[\"train_acc\"].append(train_acc)\n",
        "    results[\"test_loss\"].append(test_loss)\n",
        "    results[\"test_acc\"].append(test_acc)\n",
        "\n",
        "  return results"
      ],
      "metadata": {
        "id": "pSQUbNhVBj7b"
      },
      "execution_count": 58,
      "outputs": []
    },
    {
      "cell_type": "code",
      "source": [
        "# train and evaluate model 0\n",
        "\n",
        "torch.manual_seed(42)\n",
        "torch.cuda.manual_seed(42)\n",
        "\n",
        "NUM_EPOCHS = 5\n",
        "\n",
        "model_0 = TinyVGG(input_shape=3,\n",
        "                  hidden_units=10,\n",
        "                  output_shape=len(train_data.classes)).to(device)\n",
        "\n",
        "loss_fn = nn.CrossEntropyLoss()\n",
        "optimizer = torch.optim.Adam(params=model_0.parameters(),\n",
        "                             lr=0.001)\n",
        "\n",
        "from timeit import default_timer as timer\n",
        "start_time = timer()\n",
        "\n",
        "model_0_results = train(model=model_0,\n",
        "                        train_dataloader=train_dataloader_simple,\n",
        "                        test_dataloader=test_dataloader_simple,\n",
        "                        optimizer=optimizer,\n",
        "                        loss_fn=loss_fn,\n",
        "                        epochs=NUM_EPOCHS)\n",
        "\n",
        "end_time = timer()\n",
        "\n",
        "print(f\"Total training time: {end_time-start_time:.3f} seconds\")"
      ],
      "metadata": {
        "id": "RiU9Kvv3Ilxh"
      },
      "execution_count": null,
      "outputs": []
    },
    {
      "cell_type": "code",
      "source": [
        "# plot loss curves: Tracking models progress over time with regards to over-fitting or under-fitting\n",
        "\n",
        "model_0_results.keys()"
      ],
      "metadata": {
        "colab": {
          "base_uri": "https://localhost:8080/"
        },
        "id": "yMGGC_5GVAQR",
        "outputId": "a46cf816-74d3-4bb3-fd13-d4a84318adb2"
      },
      "execution_count": 61,
      "outputs": [
        {
          "output_type": "execute_result",
          "data": {
            "text/plain": [
              "dict_keys(['train_loss', 'train_acc', 'test_loss', 'test_acc'])"
            ]
          },
          "metadata": {},
          "execution_count": 61
        }
      ]
    },
    {
      "cell_type": "code",
      "source": [
        "def plot_loss_curves(results: Dict[str, List[float]]):\n",
        "  loss = results[\"train_loss\"]\n",
        "  test_loss = results[\"test_loss\"]\n",
        "\n",
        "  accuracy = results[\"train_acc\"]\n",
        "  test_accuracy = results[\"test_acc\"]\n",
        "\n",
        "  epochs = range(len(results[\"train_loss\"]))\n",
        "\n",
        "  #setup a plot\n",
        "\n",
        "  plt.figure(figsize=(15, 7))\n",
        "\n",
        "  # Plot the loss\n",
        "\n",
        "  plt.subplot(1, 2, 1)\n",
        "  plt.plot(epochs, loss, label=\"train_loss\")\n",
        "  plt.plot(epochs, test_loss, label=\"test_loss\")\n",
        "  plt.title(\"Loss\")\n",
        "  plt.xlabel(\"Epochs\")\n",
        "  plt.legend()\n",
        "\n",
        "  #plot the accuracy\n",
        "\n",
        "  plt.subplot(1, 2, 2)\n",
        "  plt.plot(epochs, accuracy, label=\"train_accuracy\")\n",
        "  plt.plot(epochs, test_accuracy, label=\"test_accuracy\")\n",
        "  plt.title(\"Accuracy\")\n",
        "  plt.xlabel(\"Epochs\")\n",
        "  plt.legend()"
      ],
      "metadata": {
        "id": "YzPkvsAQVuB8"
      },
      "execution_count": 62,
      "outputs": []
    },
    {
      "cell_type": "code",
      "source": [
        "plot_loss_curves(model_0_results)"
      ],
      "metadata": {
        "colab": {
          "base_uri": "https://localhost:8080/",
          "height": 641
        },
        "id": "psi_BMtXXhjb",
        "outputId": "881dbe12-2ae3-4b31-f9f0-9e9839abb0f6"
      },
      "execution_count": 64,
      "outputs": [
        {
          "output_type": "display_data",
          "data": {
            "text/plain": [
              "<Figure size 1500x700 with 2 Axes>"
            ],
            "image/png": "[encoded data removed]"
          },
          "metadata": {}
        }
      ]
    },
    {
      "cell_type": "code",
      "source": [
        "# Model 1: TinyVGG With Data Augmentation\n",
        "# Create training transform with TrivialAugment\n",
        "\n",
        "from torchvision import transforms\n",
        "\n",
        "train_transform_trivial = transforms.Compose([\n",
        "    transforms.Resize(size=(64, 64)),\n",
        "    transforms.TrivialAugmentWide(num_magnitude_bins=31),\n",
        "    transforms.ToTensor()\n",
        "])\n",
        "\n",
        "test_transform_simple = transforms.Compose([\n",
        "    transforms.Resize(size=(64, 64)),\n",
        "    transforms.ToTensor()\n",
        "])\n"
      ],
      "metadata": {
        "id": "b66CxQfaormZ"
      },
      "execution_count": 65,
      "outputs": []
    },
    {
      "cell_type": "code",
      "source": [
        "# Create train and test datasets and dataloaders with data augmentation\n",
        "# Turn image folder into datasets\n",
        "\n",
        "from torchvision import datasets\n",
        "\n",
        "train_data_augmented = datasets.ImageFolder(root=train_dir,\n",
        "                                            transform=train_transform_trivial)\n",
        "\n",
        "test_data_simple = datasets.ImageFolder(root=test_dir,\n",
        "                                       transform=test_transform_simple)"
      ],
      "metadata": {
        "id": "vDENrouzu4v-"
      },
      "execution_count": 66,
      "outputs": []
    },
    {
      "cell_type": "code",
      "source": [
        "# turn datasets into dataloaders\n",
        "\n",
        "import os\n",
        "from torch.utils.data import DataLoader\n",
        "\n",
        "# Setup batch size and number of workers\n",
        "BATCH_SIZE = 32\n",
        "NUM_WORKERS = os.cpu_count()\n",
        "\n",
        "torch.manual_seed(42)\n",
        "torch.cuda.manual_seed(42)\n",
        "\n",
        "train_dataloader_augmented = DataLoader(dataset=train_data_augmented,\n",
        "                                         batch_size=BATCH_SIZE,\n",
        "                                         num_workers=NUM_WORKERS,\n",
        "                                         shuffle=True)\n",
        "\n",
        "test_dataloader_simple = DataLoader(dataset=test_data_simple,\n",
        "                                    batch_size=BATCH_SIZE,\n",
        "                                    num_workers=NUM_WORKERS,\n",
        "                                    shuffle=False)"
      ],
      "metadata": {
        "id": "dcrdIaeDvuHt"
      },
      "execution_count": 67,
      "outputs": []
    },
    {
      "cell_type": "code",
      "source": [
        "torch.manual_seed(42)\n",
        "torch.cuda.manual_seed(42)\n",
        "\n",
        "model_1 = TinyVGG(input_shape=3,\n",
        "                  hidden_units=10,\n",
        "                  output_shape=len(train_data_augmented.classes)).to(device)\n",
        "\n",
        "model_1"
      ],
      "metadata": {
        "colab": {
          "base_uri": "https://localhost:8080/"
        },
        "id": "GnmqEAT6wtbB",
        "outputId": "5dc37a53-a301-4e55-d66d-bc63045f7956"
      },
      "execution_count": 68,
      "outputs": [
        {
          "output_type": "execute_result",
          "data": {
            "text/plain": [
              "TinyVGG(\n",
              "  (conv_block_1): Sequential(\n",
              "    (0): Conv2d(3, 10, kernel_size=(3, 3), stride=(1, 1))\n",
              "    (1): ReLU()\n",
              "    (2): Conv2d(10, 10, kernel_size=(3, 3), stride=(1, 1))\n",
              "    (3): ReLU()\n",
              "    (4): MaxPool2d(kernel_size=2, stride=2, padding=0, dilation=1, ceil_mode=False)\n",
              "  )\n",
              "  (conv_block_2): Sequential(\n",
              "    (0): Conv2d(10, 10, kernel_size=(3, 3), stride=(1, 1))\n",
              "    (1): ReLU()\n",
              "    (2): Conv2d(10, 10, kernel_size=(3, 3), stride=(1, 1))\n",
              "    (3): ReLU()\n",
              "    (4): MaxPool2d(kernel_size=2, stride=2, padding=0, dilation=1, ceil_mode=False)\n",
              "  )\n",
              "  (classifier): Sequential(\n",
              "    (0): Flatten(start_dim=1, end_dim=-1)\n",
              "    (1): Linear(in_features=1690, out_features=3, bias=True)\n",
              "  )\n",
              ")"
            ]
          },
          "metadata": {},
          "execution_count": 68
        }
      ]
    },
    {
      "cell_type": "code",
      "source": [
        "torch.manual_seed(42)\n",
        "torch.cuda.manual_seed(42)\n",
        "\n",
        "NUM_EPOCHS = 5\n",
        "\n",
        "loss_fn = nn.CrossEntropyLoss()\n",
        "\n",
        "optimizer = torch.optim.Adam(params=model_1.parameters(),\n",
        "                             lr=0.001)\n",
        "\n",
        "from timeit import default_timer as timer\n",
        "start_time = timer()\n",
        "\n",
        "model_1_results = train(model=model_1,\n",
        "                        train_dataloader=train_dataloader_augmented,\n",
        "                        test_dataloader=test_dataloader_simple,\n",
        "                        optimizer=optimizer,\n",
        "                        loss_fn=loss_fn,\n",
        "                        epochs=NUM_EPOCHS,\n",
        "                        device=device)\n",
        "\n",
        "end_time = timer()\n",
        "\n",
        "print(f\"Total training time for model 1: {end_time-start_time:.3f} seconds\")"
      ],
      "metadata": {
        "id": "lZhBG1Efxm6_"
      },
      "execution_count": null,
      "outputs": []
    }
  ]
}